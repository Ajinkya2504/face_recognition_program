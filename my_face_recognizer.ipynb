{
 "cells": [
  {
   "cell_type": "code",
   "execution_count": 35,
   "id": "ae4649e7",
   "metadata": {},
   "outputs": [],
   "source": [
    "import cv2, time, os"
   ]
  },
  {
   "cell_type": "code",
   "execution_count": 36,
   "id": "ba5f69b0",
   "metadata": {},
   "outputs": [],
   "source": [
    "import function"
   ]
  },
  {
   "cell_type": "markdown",
   "id": "559168cb",
   "metadata": {},
   "source": [
    "\n",
    "\n",
    "\n",
    "\n",
    "creating model which recognises the face"
   ]
  },
  {
   "cell_type": "code",
   "execution_count": 37,
   "id": "baadb1fd",
   "metadata": {},
   "outputs": [],
   "source": [
    "cap = cv2.VideoCapture(0)\n",
    "\n",
    "while True:\n",
    "    \n",
    "\n",
    "   \n",
    "\n",
    "    ret, pic= cap.read()\n",
    "\n",
    "    model= cv2.CascadeClassifier('haarcascade_frontalface_default.xml')\n",
    "    faces= model.detectMultiScale(pic)\n",
    "    if len(faces)== 0:\n",
    "        pass\n",
    "    else:\n",
    "            x1= faces[0][0]\n",
    "            y1= faces[0][1]\n",
    "            x2= faces[0][2]\n",
    "            y2= faces[0][2]\n",
    "        \n",
    "            aphoto= cv2.rectangle(pic, (x1,y1), (x2,y2), [0,0,255], 4)\n",
    "            cv2.imshow(\"Detecting multiple face...\",aphoto)\n",
    "            if (len(faces))== 1:\n",
    "                break\n",
    "            if (len(faces)) == 2:\n",
    "                break\n",
    "            if cv2.waitKey(10) == 13:\n",
    "                break\n",
    "            \n",
    "            \n",
    "\n",
    "cv2.destroyAllWindows()\n",
    "cap.release()"
   ]
  },
  {
   "cell_type": "code",
   "execution_count": 38,
   "id": "70309371",
   "metadata": {},
   "outputs": [
    {
     "name": "stdout",
     "output_type": "stream",
     "text": [
      "Enter the phone number: 7018001463\n",
      "Whatsapp message send successfully\n",
      "Enter the login username: ajeenkya25.2000@gmail.com\n",
      "Enter the password: ········\n",
      "Your mail has been sent successfully\n",
      "no. of faces is 1\n"
     ]
    }
   ],
   "source": [
    "\n",
    "if len(faces) == 1:\n",
    "    \n",
    "    # when number of faces is only 1\n",
    "    function.whatsapp()\n",
    "    \n",
    "    time.sleep(15)\n",
    "    \n",
    "    function.mail()\n",
    "    print(\"no. of faces is 1\")\n",
    "else:\n",
    "    \n",
    "    # when number of faces is more than 2: launching ec2 instance\n",
    "    function.ec2()\n",
    "    \n",
    "    # sleep function for smooth execution of process\n",
    "    time.sleep(15)\n",
    "    \n",
    "\n",
    "    function.ebs()\n",
    "    print(\"No. of faces are 2\")\n",
    "    \n"
   ]
  },
  {
   "cell_type": "code",
   "execution_count": null,
   "id": "9506bf82",
   "metadata": {},
   "outputs": [],
   "source": []
  }
 ],
 "metadata": {
  "kernelspec": {
   "display_name": "Python 3",
   "language": "python",
   "name": "python3"
  },
  "language_info": {
   "codemirror_mode": {
    "name": "ipython",
    "version": 3
   },
   "file_extension": ".py",
   "mimetype": "text/x-python",
   "name": "python",
   "nbconvert_exporter": "python",
   "pygments_lexer": "ipython3",
   "version": "3.8.8"
  }
 },
 "nbformat": 4,
 "nbformat_minor": 5
}
